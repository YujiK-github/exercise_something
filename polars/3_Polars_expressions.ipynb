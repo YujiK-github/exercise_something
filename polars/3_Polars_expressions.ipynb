{
 "cells": [
  {
   "cell_type": "code",
   "execution_count": null,
   "metadata": {},
   "outputs": [],
   "source": [
    "%pip install polars"
   ]
  },
  {
   "cell_type": "code",
   "execution_count": 5,
   "metadata": {},
   "outputs": [
    {
     "name": "stdout",
     "output_type": "stream",
     "text": [
      "shape: (5, 4)\n",
      "┌──────┬───────┬──────────┬────────┐\n",
      "│ nrs  ┆ names ┆ random   ┆ groups │\n",
      "│ ---  ┆ ---   ┆ ---      ┆ ---    │\n",
      "│ i64  ┆ str   ┆ f64      ┆ str    │\n",
      "╞══════╪═══════╪══════════╪════════╡\n",
      "│ 1    ┆ foo   ┆ 0.154163 ┆ A      │\n",
      "│ 2    ┆ ham   ┆ 0.74005  ┆ A      │\n",
      "│ 3    ┆ spam  ┆ 0.263315 ┆ B      │\n",
      "│ null ┆ egg   ┆ 0.533739 ┆ C      │\n",
      "│ 5    ┆ null  ┆ 0.014575 ┆ B      │\n",
      "└──────┴───────┴──────────┴────────┘\n"
     ]
    }
   ],
   "source": [
    "import polars as pl\n",
    "import numpy as np\n",
    "\n",
    "np.random.seed(12)\n",
    "\n",
    "df = pl.DataFrame(\n",
    "    {\n",
    "        \"nrs\":[1, 2, 3, None, 5],\n",
    "        \"names\":[\"foo\", \"ham\", \"spam\", \"egg\", None],\n",
    "        \"random\": np.random.rand(5),\n",
    "        \"groups\": [\"A\", \"A\", \"B\", \"C\", \"B\"],\n",
    "    }\n",
    ")\n",
    "print(df)"
   ]
  },
  {
   "cell_type": "code",
   "execution_count": 6,
   "metadata": {},
   "outputs": [
    {
     "name": "stdout",
     "output_type": "stream",
     "text": [
      "shape: (1, 2)\n",
      "┌────────────────┬───────────────┐\n",
      "│ unique_names_1 ┆ unique_name_2 │\n",
      "│ ---            ┆ ---           │\n",
      "│ u32            ┆ u32           │\n",
      "╞════════════════╪═══════════════╡\n",
      "│ 5              ┆ 5             │\n",
      "└────────────────┴───────────────┘\n"
     ]
    }
   ],
   "source": [
    "# count unique values\n",
    "out = df.select(\n",
    "    [\n",
    "        pl.col(\"names\").n_unique().alias(\"unique_names_1\"),\n",
    "        pl.col(\"names\").unique().count().alias(\"unique_name_2\"),\n",
    "    ]\n",
    ")\n",
    "print(out)"
   ]
  },
  {
   "cell_type": "code",
   "execution_count": 7,
   "metadata": {},
   "outputs": [
    {
     "name": "stdout",
     "output_type": "stream",
     "text": [
      "shape: (1, 6)\n",
      "┌──────────┬──────────┬─────────┬───────────┬──────────┬──────────┐\n",
      "│ sum      ┆ min      ┆ max     ┆ other_max ┆ std dev  ┆ variance │\n",
      "│ ---      ┆ ---      ┆ ---     ┆ ---       ┆ ---      ┆ ---      │\n",
      "│ f64      ┆ f64      ┆ f64     ┆ f64       ┆ f64      ┆ f64      │\n",
      "╞══════════╪══════════╪═════════╪═══════════╪══════════╪══════════╡\n",
      "│ 1.705842 ┆ 0.014575 ┆ 0.74005 ┆ 0.74005   ┆ 0.293209 ┆ 0.085971 │\n",
      "└──────────┴──────────┴─────────┴───────────┴──────────┴──────────┘\n"
     ]
    }
   ],
   "source": [
    "# Various aggregations\n",
    "out = df.select(\n",
    "    [\n",
    "        pl.sum(\"random\").alias(\"sum\"),\n",
    "        pl.min(\"random\").alias(\"min\"),\n",
    "        pl.max(\"random\").alias(\"max\"),\n",
    "        pl.col(\"random\").max().alias(\"other_max\"),\n",
    "        pl.std(\"random\").alias(\"std dev\"),\n",
    "        pl.var(\"random\").alias(\"variance\"),\n",
    "    ]\n",
    ")\n",
    "print(out)"
   ]
  },
  {
   "cell_type": "code",
   "execution_count": 8,
   "metadata": {},
   "outputs": [
    {
     "name": "stdout",
     "output_type": "stream",
     "text": [
      "shape: (1, 1)\n",
      "┌───────┐\n",
      "│ names │\n",
      "│ ---   │\n",
      "│ u32   │\n",
      "╞═══════╡\n",
      "│ 2     │\n",
      "└───────┘\n"
     ]
    }
   ],
   "source": [
    "# Filter and conditions\n",
    "out = df.select(\n",
    "    [\n",
    "        pl.col(\"names\").filter(pl.col(\"names\").str.contains(r\"am$\")).count(),\n",
    "    ]\n",
    ")\n",
    "print(out)"
   ]
  },
  {
   "cell_type": "code",
   "execution_count": 10,
   "metadata": {},
   "outputs": [
    {
     "name": "stdout",
     "output_type": "stream",
     "text": [
      "shape: (5, 1)\n",
      "┌──────────┐\n",
      "│ literal  │\n",
      "│ ---      │\n",
      "│ f64      │\n",
      "╞══════════╡\n",
      "│ 1.695791 │\n",
      "│ 0.0      │\n",
      "│ 2.896465 │\n",
      "│ 0.0      │\n",
      "│ 0.160325 │\n",
      "└──────────┘\n"
     ]
    }
   ],
   "source": [
    "# Binary functions and modification\n",
    "out = df.select(\n",
    "    [\n",
    "        pl.when(pl.col(\"random\") > 0.5).then(0).otherwise(pl.col(\"random\")) * pl.sum(\"nrs\"),\n",
    "    ]\n",
    ")\n",
    "print(out)"
   ]
  },
  {
   "cell_type": "code",
   "execution_count": 11,
   "metadata": {},
   "outputs": [
    {
     "name": "stdout",
     "output_type": "stream",
     "text": [
      "shape: (5, 1)\n",
      "┌──────────┐\n",
      "│ literal  │\n",
      "│ ---      │\n",
      "│ f64      │\n",
      "╞══════════╡\n",
      "│ 1.0      │\n",
      "│ 1.0      │\n",
      "│ 0.263315 │\n",
      "│ 0.0      │\n",
      "│ 0.014575 │\n",
      "└──────────┘\n"
     ]
    }
   ],
   "source": [
    "out = df.select(\n",
    "    pl.when(pl.col(\"groups\") == \"A\").then(1).when(pl.col(\"random\") > 0.5).then(0).otherwise(pl.col(\"random\"))\n",
    ")\n",
    "print(out)"
   ]
  },
  {
   "cell_type": "code",
   "execution_count": 12,
   "metadata": {},
   "outputs": [
    {
     "name": "stdout",
     "output_type": "stream",
     "text": [
      "shape: (5, 6)\n",
      "┌──────┬───────┬──────────┬────────┬────────────────────┬─────────────┐\n",
      "│ nrs  ┆ names ┆ random   ┆ groups ┆ sum[random]/groups ┆ random/name │\n",
      "│ ---  ┆ ---   ┆ ---      ┆ ---    ┆ ---                ┆ ---         │\n",
      "│ i64  ┆ str   ┆ f64      ┆ str    ┆ f64                ┆ list[f64]   │\n",
      "╞══════╪═══════╪══════════╪════════╪════════════════════╪═════════════╡\n",
      "│ 1    ┆ foo   ┆ 0.154163 ┆ A      ┆ 0.894213           ┆ [0.154163]  │\n",
      "│ 2    ┆ ham   ┆ 0.74005  ┆ A      ┆ 0.894213           ┆ [0.74005]   │\n",
      "│ 3    ┆ spam  ┆ 0.263315 ┆ B      ┆ 0.27789            ┆ [0.263315]  │\n",
      "│ null ┆ egg   ┆ 0.533739 ┆ C      ┆ 0.533739           ┆ [0.533739]  │\n",
      "│ 5    ┆ null  ┆ 0.014575 ┆ B      ┆ 0.27789            ┆ [0.014575]  │\n",
      "└──────┴───────┴──────────┴────────┴────────────────────┴─────────────┘\n"
     ]
    }
   ],
   "source": [
    "# Window expressions\n",
    "df = df.select(\n",
    "    [\n",
    "        pl.col(\"*\"), # all row\n",
    "        pl.col(\"random\").sum().over(\"groups\").alias(\"sum[random]/groups\"), # overはpandasのgroupと似ている\n",
    "        pl.col(\"random\").list().over(\"names\").alias(\"random/name\"),\n",
    "    ]\n",
    ")\n",
    "print(df)"
   ]
  }
 ],
 "metadata": {
  "kernelspec": {
   "display_name": "Python 3",
   "language": "python",
   "name": "python3"
  },
  "language_info": {
   "codemirror_mode": {
    "name": "ipython",
    "version": 3
   },
   "file_extension": ".py",
   "mimetype": "text/x-python",
   "name": "python",
   "nbconvert_exporter": "python",
   "pygments_lexer": "ipython3",
   "version": "3.10.1"
  },
  "orig_nbformat": 4
 },
 "nbformat": 4,
 "nbformat_minor": 2
}
